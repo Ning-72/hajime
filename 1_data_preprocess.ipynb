{
 "cells": [
  {
   "cell_type": "code",
   "id": "initial_id",
   "metadata": {
    "collapsed": true,
    "ExecuteTime": {
     "end_time": "2024-10-25T15:14:50.151530Z",
     "start_time": "2024-10-25T15:14:49.126403Z"
    }
   },
   "source": [
    "import os\n",
    "import pandas as pd\n",
    "\n",
    "from utils.file_utils import *"
   ],
   "outputs": [],
   "execution_count": 1
  },
  {
   "metadata": {},
   "cell_type": "markdown",
   "source": "### 1. Build a bipartite network from raw data ###",
   "id": "7f92d29b4750858d"
  },
  {
   "metadata": {
    "ExecuteTime": {
     "end_time": "2024-10-25T15:14:54.340656Z",
     "start_time": "2024-10-25T15:14:50.160364Z"
    }
   },
   "cell_type": "code",
   "source": [
    "# Load all congress member info.\n",
    "global_congress_member_info = pd.read_csv('data/raw_data/all_congress_members.csv').drop(['Unnamed: 0'], axis=1)\n",
    "print('Full congress member table shape is ' + str(global_congress_member_info.shape) + '.')\n",
    "\n",
    "# Load followee info file name list for each congress member. \n",
    "following_table_names = os.listdir('data/raw_data/following_data_raw')\n",
    "print(str(len(following_table_names)) + ' following tables loaded.')\n",
    "\n",
    "following_table_list = []\n",
    "valid_following_table_num = 0\n",
    "\n",
    "for following_table_name in following_table_names:\n",
    "    # Extract congress member name from file name.\n",
    "    congress_member_name = '_'.join(following_table_name.split('_')[1:-1])\n",
    "    \n",
    "    # The followee info file is named by congress members' new twitter names, if they have ones.\n",
    "    congress_member_info = global_congress_member_info[\n",
    "    (global_congress_member_info['twitter_name'] == congress_member_name) |\n",
    "    (global_congress_member_info['new_twitter_name'] == congress_member_name)\n",
    "    ]\n",
    "    \n",
    "    # Ensure that the target congress member is unique in all congress member table.\n",
    "    if congress_member_info.shape[0] != 1:\n",
    "        print('Unable to locate the exact information of the congress member.')\n",
    "        print(str(congress_member_info.shape[0]) + ' indexes found for name ' + congress_member_name + '.')\n",
    "        continue\n",
    "    \n",
    "    following_table = pd.read_csv('data/raw_data/following_data_raw/' + following_table_name)\n",
    "    \n",
    "    # Merge all congress member info into followee info table.\n",
    "    for column in congress_member_info.columns:\n",
    "        following_table['cm_' + column] = congress_member_info[column].iloc[0]\n",
    "        \n",
    "    valid_following_table_num = valid_following_table_num + 1\n",
    "    following_table_list.append(following_table)\n",
    "\n",
    "'''\n",
    "Get a following relationship table with all followees and congress members as well as all their info included, and save to csv.\n",
    "[Unupdated twitter names have no impact on further analysis and calculations, just using old twitter names will be okay.]\n",
    "[I want this global following table to be as raw as possible.]\n",
    "'''\n",
    "global_following_table = pd.concat(following_table_list)\n",
    "global_following_table.loc[:, 'user_name'] = global_following_table['user_name'].str.lower()\n",
    "global_following_table.loc[:, 'cm_twitter_name'] = global_following_table['cm_twitter_name'].str.lower()\n",
    "global_following_table.loc[:, 'cm_new_twitter_name'] = global_following_table['cm_new_twitter_name'].str.lower()\n",
    "\n",
    "save_to_csv('data/processed_data/', 'global_following_table.csv', global_following_table)\n",
    "\n",
    "print(str(valid_following_table_num) + ' following tables are valid.')\n",
    "print('The shape of the global following table is ' + str(global_following_table.shape) + '.')"
   ],
   "id": "734f9f39aef8c7f",
   "outputs": [
    {
     "name": "stdout",
     "output_type": "stream",
     "text": [
      "Full congress member table shape is (183, 15).\n",
      "164 following tables loaded.\n",
      "164 following tables are valid.\n",
      "The shape of the global following table is (308457, 32).\n"
     ]
    }
   ],
   "execution_count": 2
  },
  {
   "metadata": {},
   "cell_type": "markdown",
   "source": "### 2. Extract information before 2015 ###",
   "id": "94e976623de2a20a"
  },
  {
   "metadata": {
    "ExecuteTime": {
     "end_time": "2024-10-25T15:14:57.532745Z",
     "start_time": "2024-10-25T15:14:54.485071Z"
    }
   },
   "cell_type": "code",
   "source": [
    "# Drop followees created after 2015 and save as csv.\n",
    "global_following_table['created_at'] = pd.to_datetime(global_following_table['created_at'], format='%A %d %B %Y at %H:%M:%S', errors='coerce')\n",
    "\n",
    "global_following_table_before2015 = global_following_table[global_following_table['created_at'].dt.year <= 2015]\n",
    "\n",
    "save_to_csv('data/processed_data/', 'global_following_table_before2015.csv', global_following_table_before2015)\n",
    "\n",
    "print(str(len(list(global_following_table_before2015['user_name'].unique()))) + ' unique followees in the bipartite following table before 2015.')\n",
    "print('The length of bipartite following table before 2015 is ' + str(global_following_table_before2015.shape[0]) + '.')"
   ],
   "id": "a8516a5ea5775a4d",
   "outputs": [
    {
     "name": "stdout",
     "output_type": "stream",
     "text": [
      "156357 unique followees in the bipartite following table before 2015.\n",
      "The length of bipartite following table before 2015 is 293623.\n"
     ]
    }
   ],
   "execution_count": 3
  },
  {
   "metadata": {},
   "cell_type": "markdown",
   "source": "### 3. Extract key information from the global following table ###",
   "id": "467f71e3f60e06d3"
  },
  {
   "metadata": {
    "ExecuteTime": {
     "end_time": "2024-10-25T15:15:00.140701Z",
     "start_time": "2024-10-25T15:14:57.678845Z"
    }
   },
   "cell_type": "code",
   "source": [
    "# Eliminate inter-following relationships between congress members to get a bipartite following table of congress members and followees.\n",
    "congress_member_list = list(global_following_table_before2015['cm_twitter_name'].unique()) + list(global_following_table_before2015['cm_new_twitter_name'].unique())\n",
    "bipartite_table_before2015 = global_following_table_before2015[~global_following_table_before2015['user_name'].isin(congress_member_list)]\n",
    "\n",
    "# Save bipartite following table to csv.\n",
    "save_to_csv('data/processed_data/', 'bipartite_following_table_before2015.csv', bipartite_table_before2015)\n",
    "print(str(len(list(bipartite_table_before2015['user_name'].unique()))) + ' unique followees in the bipartite following table before 2015.')\n",
    "print(str(bipartite_table_before2015.shape[0]) + ' links.')"
   ],
   "id": "d6002442540b0b4",
   "outputs": [
    {
     "name": "stdout",
     "output_type": "stream",
     "text": [
      "156200 unique followees in the bipartite following table before 2015.\n",
      "285574 links.\n"
     ]
    }
   ],
   "execution_count": 4
  },
  {
   "metadata": {},
   "cell_type": "markdown",
   "source": "### 4. Split ###",
   "id": "8628d24b37343281"
  },
  {
   "metadata": {
    "ExecuteTime": {
     "end_time": "2024-10-25T15:15:02.813127Z",
     "start_time": "2024-10-25T15:15:00.344294Z"
    }
   },
   "cell_type": "code",
   "source": [
    "# Extract senate following table existing before 2015.\n",
    "senate_table_before2015 = bipartite_table_before2015[bipartite_table_before2015['cm_chamber'] == 'Senate']\n",
    "save_to_csv('data/processed_data/', 'senate_bipartite_table_before2015.csv', senate_table_before2015)\n",
    "\n",
    "print(str(len(list(senate_table_before2015['user_name'].unique()))) + ' unique followees in the senate bipartite following table before 2015.')\n",
    "print(senate_table_before2015.shape)\n",
    "\n",
    "# Extract house following table existing before 2015.\n",
    "house_table_before2015 = bipartite_table_before2015[bipartite_table_before2015['cm_chamber'] == 'House']\n",
    "save_to_csv('data/processed_data/', 'house_bipartite_table_before2015.csv', house_table_before2015)\n",
    "\n",
    "print(str(len(list(house_table_before2015['user_name'].unique()))) + ' unique followees in the house bipartite following table before 2015.')\n",
    "print(house_table_before2015.shape)"
   ],
   "id": "5926ef567dfe8aab",
   "outputs": [
    {
     "name": "stdout",
     "output_type": "stream",
     "text": [
      "58729 unique followees in the senate bipartite following table before 2015.\n",
      "(79837, 32)\n",
      "116719 unique followees in the house bipartite following table before 2015.\n",
      "(205737, 32)\n"
     ]
    }
   ],
   "execution_count": 5
  },
  {
   "metadata": {},
   "cell_type": "markdown",
   "source": "### 5. Get edge lists for global, house and senate following table. ###",
   "id": "7153d5af20a8b72f"
  },
  {
   "metadata": {
    "ExecuteTime": {
     "end_time": "2024-10-25T15:15:03.376006Z",
     "start_time": "2024-10-25T15:15:03.087229Z"
    }
   },
   "cell_type": "code",
   "source": [
    "global_edge_list = bipartite_table_before2015[['user_name', 'cm_twitter_name']]\n",
    "save_to_csv('data/processed_data/', 'global_edge_list.csv', global_edge_list)\n",
    "\n",
    "senate_edge_list = senate_table_before2015[['user_name', 'cm_twitter_name']]\n",
    "save_to_csv('data/processed_data/', 'senate_edge_list.csv.csv', senate_edge_list)\n",
    "\n",
    "house_edge_list = house_table_before2015[['user_name', 'cm_twitter_name']]\n",
    "save_to_csv('data/processed_data/', 'house_edge_list.csv', house_edge_list)\n",
    "\n",
    "print(global_edge_list.head(5))"
   ],
   "id": "66c715d87dde8aae",
   "outputs": [
    {
     "name": "stdout",
     "output_type": "stream",
     "text": [
      "         user_name cm_twitter_name\n",
      "1         housegop   chuckgrassley\n",
      "2        senategop   chuckgrassley\n",
      "3    ronnamcdaniel   chuckgrassley\n",
      "4  govmikehuckabee   chuckgrassley\n",
      "5     newtgingrich   chuckgrassley\n"
     ]
    }
   ],
   "execution_count": 6
  }
 ],
 "metadata": {
  "kernelspec": {
   "display_name": "Python 3",
   "language": "python",
   "name": "python3"
  },
  "language_info": {
   "codemirror_mode": {
    "name": "ipython",
    "version": 2
   },
   "file_extension": ".py",
   "mimetype": "text/x-python",
   "name": "python",
   "nbconvert_exporter": "python",
   "pygments_lexer": "ipython2",
   "version": "2.7.6"
  }
 },
 "nbformat": 4,
 "nbformat_minor": 5
}
